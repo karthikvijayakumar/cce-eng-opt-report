{
 "cells": [
  {
   "cell_type": "markdown",
   "metadata": {},
   "source": [
    "(momentum)=\n",
    "\n",
    "# Momentum\n",
    "\n",
    "One of the aspects of standard gradient descent with fixed step size is that each step is independent of the other.\n",
    "\n",
    "This can either make it rapidly switch directions close to the local minima when the step size is too high or be excruciatingly slow in converging.\n",
    "\n",
    "Momentum tries to bake in historical information as the name suggests\n",
    "\n",
    "The first form of momentum proposed was by Polyak called the heavy ball method\n",
    "\n",
    "**Heavy ball method**\n",
    "\n",
    "Do updates as follows\n",
    "\n",
    "$$\n",
    "    x_{t+1} = x_{t} − \\gamma \\nabla f(x_{t}) + \\mu (x_{t} - x_{t−1})\n",
    "$$\n",
    "\n",
    "This works in practice for most problems. However there are some special functions for which the above algorithm provably does not converge\n",
    "\n",
    "\n",
    "Nesterov suggested a slightly different form of momentum\n",
    "\n",
    "**Nesterov momentum**\n",
    "\n",
    "Nesterov maintain's two seequences\n",
    "\n",
    "$$\n",
    "    z^{k+1} = \\beta z^{k} + \\nabla f(w^{k})\n",
    "$$\n",
    "$$\n",
    "    w^{k+1} = w^{k} - \\alpha z^{k+1}\n",
    "$$\n",
    "\n",
    "Nesterov showed that the above can provably converge under certain conditions. We will focus on nesterov momentum for the rest of this document\n",
    "\n",
    "## Nesterov momentum\n",
    "\n",
    "Lets take a deeper look at nesterov momentum and see how it is different from simple gradient descent\n",
    "\n",
    "Gradient descent with fixed step size looks as follows\n",
    "\n",
    "$$\n",
    "    w_{k+1} = w_{k} - \\alpha \\nabla f(w_{k})\n",
    "$$\n",
    "\n",
    "In nesterov iterates lets first unroll the $z_{k}$ \n",
    "\n",
    "$$    \n",
    "    z_{k} = \\beta z_{k-1} + \\nabla f(w_{k-1})\n",
    "$$\n",
    "$$\n",
    "    z_{k} = \\beta \\left( \\beta z_{k-2} + \\nabla f(w_{k-2} \\right) + \\nabla f(w_{k-1})\n",
    "$$\n",
    "$$\n",
    "    z_{k} = \\beta^{k} z^{0} + \\frac{1}{\\beta} \\left( \\sum_{i=1}^{k} \\beta^{i} f(w_{k-i}) \\right)\n",
    "$$\n",
    "\n",
    "If we substitute the unrolled $z_{k}$ into the formula for $w_{k+1}$ then we get\n",
    "\n",
    "$$\n",
    "    w_{k+1} = w_{k} - \\alpha \\nabla f(w_{k}) -\\alpha \\left( \\beta^{k+1} z^{0} + \\sum_{i=1}^{k} \\beta^{i} f(w_{k-i})   \\right)\n",
    "$$\n",
    "\n",
    "We notice that the update involves gradients from previous iterates in nesterov which is markedly different from gradient descent\n",
    "\n",
    "The $\\beta$ term controls how much the gradients from previous iterates contribute to the current update.\n",
    "\n",
    "## Issues with momentum\n",
    "\n",
    "There are notably a few issues with momentum\n",
    "\n",
    "* If one has to choose a fixed learning rate and momentum. finding the right $\\alpha$ and $\\beta$ values can be tricky\n",
    "* The steps in each directions is equally multiplied with the step size. Some directions need stronger updates compared to the others"
   ]
  }
 ],
 "metadata": {
  "jupytext": {
   "text_representation": {
    "extension": ".md",
    "format_name": "myst"
   }
  },
  "kernelspec": {
   "display_name": "Python 3",
   "language": "python",
   "name": "python3"
  },
  "language_info": {
   "codemirror_mode": {
    "name": "ipython",
    "version": 3
   },
   "file_extension": ".py",
   "mimetype": "text/x-python",
   "name": "python",
   "nbconvert_exporter": "python",
   "pygments_lexer": "ipython3",
   "version": "3.8.6"
  },
  "source_map": [
   10
  ]
 },
 "nbformat": 4,
 "nbformat_minor": 4
}