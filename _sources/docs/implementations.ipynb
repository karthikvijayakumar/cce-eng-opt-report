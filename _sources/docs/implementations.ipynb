{
 "cells": [
  {
   "cell_type": "markdown",
   "metadata": {},
   "source": [
    "(implementations)=\n",
    "\n",
    "# Implementations\n",
    "\n",
    "I implemented:\n",
    "\n",
    "1. Steepest gradient descent\n",
    "2. Accelerated gradient descent ( Nesterov momentum )\n",
    "3. Adam\n",
    "\n",
    "for the following 3 problems:\n",
    "\n",
    "1. Linear regression with one variable\n",
    "2. Linear regression with multiple variables\n",
    "3. Logistic regression with multiple variables\n",
    "\n",
    "The convergence for the three problems looks as follows:\n",
    "\n",
    "````{div} full-width\n",
    "```{figure} /_static/convergence/linear_regression_one_variable.png\n",
    ":scale: 100%\n",
    ":name: lin_reg_one_variable\n",
    "\n",
    "Convergence for linear regression in one variable\n",
    "```\n",
    "````\n",
    "\n",
    "````{div} full-width\n",
    "```{figure} /_static/convergence/linear_regression_multiple_variable.png\n",
    ":scale: 100%\n",
    ":name: lin_reg_multiple_variable\n",
    "\n",
    "Convergence for linear regression in multiple variable\n",
    "```\n",
    "````\n",
    "\n",
    "````{div} full-width\n",
    "```{figure} /_static/convergence/logistic_regression.png\n",
    ":scale: 100%\n",
    ":name: log_reg\n",
    "\n",
    "Convergence for logistic regression in multiple variables\n",
    "```\n",
    "````\n",
    "\n",
    "One particular anomaly stands out in the logistic regression charts that the loss function actually increases and decreases like ripples. Adam makes no guarantees that its a descent algorithm, hence this kind of behaviour is possible. We do observe that the loss eventually decreases though.\n",
    "\n",
    "In the 3 experiments run above Adam seems to perform poorly compared to Nesterov accelerated gradient descent. It's difficult to tell at this point if it is due to the algorithm itself or due to the choice of parameters."
   ]
  }
 ],
 "metadata": {
  "jupytext": {
   "text_representation": {
    "extension": ".md",
    "format_name": "myst"
   }
  },
  "kernelspec": {
   "display_name": "Python 3",
   "language": "python",
   "name": "python3"
  },
  "language_info": {
   "codemirror_mode": {
    "name": "ipython",
    "version": 3
   },
   "file_extension": ".py",
   "mimetype": "text/x-python",
   "name": "python",
   "nbconvert_exporter": "python",
   "pygments_lexer": "ipython3",
   "version": "3.8.6"
  },
  "source_map": [
   10
  ]
 },
 "nbformat": 4,
 "nbformat_minor": 4
}